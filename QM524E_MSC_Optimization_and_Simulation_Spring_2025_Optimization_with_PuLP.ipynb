{
  "nbformat": 4,
  "nbformat_minor": 0,
  "metadata": {
    "colab": {
      "provenance": [],
      "include_colab_link": true
    },
    "kernelspec": {
      "name": "python3",
      "display_name": "Python 3"
    },
    "language_info": {
      "name": "python"
    }
  },
  "cells": [
    {
      "cell_type": "markdown",
      "metadata": {
        "id": "view-in-github",
        "colab_type": "text"
      },
      "source": [
        "<a href=\"https://colab.research.google.com/github/DoreenHou/Optimization/blob/main/QM524E_MSC_Optimization_and_Simulation_Spring_2025_Optimization_with_PuLP.ipynb\" target=\"_parent\"><img src=\"https://colab.research.google.com/assets/colab-badge.svg\" alt=\"Open In Colab\"/></a>"
      ]
    },
    {
      "cell_type": "code",
      "source": [
        "#install pulp\n",
        "%pip install pulp"
      ],
      "metadata": {
        "id": "ISSTKsNDtXHK",
        "colab": {
          "base_uri": "https://localhost:8080/"
        },
        "outputId": "04982660-42a0-4d6b-8b9c-923c7cfa5b6b"
      },
      "execution_count": 1,
      "outputs": [
        {
          "output_type": "stream",
          "name": "stdout",
          "text": [
            "Collecting pulp\n",
            "  Downloading PuLP-3.0.2-py3-none-any.whl.metadata (6.7 kB)\n",
            "Downloading PuLP-3.0.2-py3-none-any.whl (17.7 MB)\n",
            "\u001b[2K   \u001b[90m━━━━━━━━━━━━━━━━━━━━━━━━━━━━━━━━━━━━━━━━\u001b[0m \u001b[32m17.7/17.7 MB\u001b[0m \u001b[31m35.3 MB/s\u001b[0m eta \u001b[36m0:00:00\u001b[0m\n",
            "\u001b[?25hInstalling collected packages: pulp\n",
            "Successfully installed pulp-3.0.2\n"
          ]
        }
      ]
    },
    {
      "cell_type": "code",
      "execution_count": 3,
      "metadata": {
        "id": "vyxbOhkktL29"
      },
      "outputs": [],
      "source": [
        "# Import PuLP modeler functions\n",
        "from pulp import *"
      ]
    },
    {
      "cell_type": "code",
      "source": [
        "# create an empty model\n",
        "# name\n",
        "# set the type of the objective function: max or min\n",
        "model = LpProblem(\"Reddy_Mikks\", LpMaximize)"
      ],
      "metadata": {
        "id": "pPfTZYTvlBaT"
      },
      "execution_count": 4,
      "outputs": []
    },
    {
      "cell_type": "code",
      "source": [
        "#profits\n",
        "profit_x1 = 5\n",
        "profit_x2 = 4"
      ],
      "metadata": {
        "id": "V0ccs_mI-Goi"
      },
      "execution_count": 5,
      "outputs": []
    },
    {
      "cell_type": "code",
      "source": [
        "# availabilities\n",
        "avail_m1 = 24\n",
        "avail_m2 = 6"
      ],
      "metadata": {
        "id": "6nPitJVd-GZa"
      },
      "execution_count": 6,
      "outputs": []
    },
    {
      "cell_type": "code",
      "source": [
        "# declare the dscision vatiables\n",
        "# arguments : name, the lower bound, the upper bound\n",
        "X1 = LpVariable('X1', 0, None)\n",
        "X2 = LpVariable('X2', 0, None)"
      ],
      "metadata": {
        "id": "dP490cB2-GRv"
      },
      "execution_count": 7,
      "outputs": []
    },
    {
      "cell_type": "code",
      "source": [
        "# set the objective function\n",
        "model += profit_x1 * X1 + profit_x2 * X2"
      ],
      "metadata": {
        "id": "zRrNezG0-GJv"
      },
      "execution_count": 9,
      "outputs": []
    },
    {
      "cell_type": "code",
      "source": [
        "# constraint 1\n",
        "model += 6 * X1 + 4 * X2 <= avail_m1"
      ],
      "metadata": {
        "id": "RxxwAsU9-GAo"
      },
      "execution_count": 10,
      "outputs": []
    },
    {
      "cell_type": "code",
      "source": [
        "# constraint 2\n",
        "model += X1 + 2 * X2 <= avail_m2"
      ],
      "metadata": {
        "id": "hewso1l7AQG0"
      },
      "execution_count": 11,
      "outputs": []
    },
    {
      "cell_type": "code",
      "source": [
        "# constraint 3\n",
        "model += X2 - X1 <= 1"
      ],
      "metadata": {
        "id": "czGJY1tGAbT5"
      },
      "execution_count": 12,
      "outputs": []
    },
    {
      "cell_type": "code",
      "source": [
        "# constraint 4\n",
        "model += X2 <= 2"
      ],
      "metadata": {
        "id": "zdv8i95xAivx"
      },
      "execution_count": null,
      "outputs": []
    },
    {
      "cell_type": "code",
      "source": [
        "#solve\n",
        "model.solve()"
      ],
      "metadata": {
        "id": "u90kbGsjArsb",
        "outputId": "c0339340-706a-4c8c-d0a3-3462b86a78e5",
        "colab": {
          "base_uri": "https://localhost:8080/"
        }
      },
      "execution_count": 13,
      "outputs": [
        {
          "output_type": "execute_result",
          "data": {
            "text/plain": [
              "1"
            ]
          },
          "metadata": {},
          "execution_count": 13
        }
      ]
    },
    {
      "cell_type": "code",
      "source": [
        "# the objective value\n",
        "pulp.value(model.objective)"
      ],
      "metadata": {
        "id": "8f-Yq4dQBBzT",
        "outputId": "eadf32d3-0129-468b-c303-adbd2869a133",
        "colab": {
          "base_uri": "https://localhost:8080/"
        }
      },
      "execution_count": 15,
      "outputs": [
        {
          "output_type": "execute_result",
          "data": {
            "text/plain": [
              "21.0"
            ]
          },
          "metadata": {},
          "execution_count": 15
        }
      ]
    },
    {
      "cell_type": "code",
      "source": [
        "# get x1\n",
        "X1.varValue"
      ],
      "metadata": {
        "id": "TYuxvh7BBZV9",
        "outputId": "dc3cabed-516d-4aea-c702-cb57d4ee8c3c",
        "colab": {
          "base_uri": "https://localhost:8080/"
        }
      },
      "execution_count": 16,
      "outputs": [
        {
          "output_type": "execute_result",
          "data": {
            "text/plain": [
              "3.0"
            ]
          },
          "metadata": {},
          "execution_count": 16
        }
      ]
    },
    {
      "cell_type": "code",
      "source": [
        "# get x2\n",
        "X2.varValue"
      ],
      "metadata": {
        "id": "ToVT4SB-BZvp",
        "outputId": "3a712325-14ad-4470-d77a-464a41b617bd",
        "colab": {
          "base_uri": "https://localhost:8080/"
        }
      },
      "execution_count": 17,
      "outputs": [
        {
          "output_type": "execute_result",
          "data": {
            "text/plain": [
              "1.5"
            ]
          },
          "metadata": {},
          "execution_count": 17
        }
      ]
    },
    {
      "cell_type": "code",
      "source": [],
      "metadata": {
        "id": "kzo3vFToBZyX"
      },
      "execution_count": null,
      "outputs": []
    },
    {
      "cell_type": "code",
      "source": [],
      "metadata": {
        "id": "a6tdflzsBiTD"
      },
      "execution_count": null,
      "outputs": []
    },
    {
      "cell_type": "code",
      "source": [],
      "metadata": {
        "id": "AsEBtaB5BiV3"
      },
      "execution_count": null,
      "outputs": []
    },
    {
      "cell_type": "code",
      "source": [],
      "metadata": {
        "id": "lDuTfg9EBiYz"
      },
      "execution_count": null,
      "outputs": []
    },
    {
      "cell_type": "code",
      "source": [],
      "metadata": {
        "id": "fY3zsZWkBibm"
      },
      "execution_count": null,
      "outputs": []
    },
    {
      "cell_type": "code",
      "source": [
        "# Knapsack Problem\n",
        "value = [2, 8, 10, 5, 18, 12, 15, 1]\n",
        "weight =  [3, 5, 4, 2, 5, 4, 5, 1]\n",
        "cap = 15"
      ],
      "metadata": {
        "id": "Z_7CIpJywVAY"
      },
      "execution_count": null,
      "outputs": []
    },
    {
      "cell_type": "code",
      "source": [],
      "metadata": {
        "id": "d5gKmKYOlggD"
      },
      "execution_count": null,
      "outputs": []
    },
    {
      "cell_type": "code",
      "source": [
        "# assignment problem\n",
        "## c_ij = the operation time of performing task i by worker j\n",
        "c = [[5,3,9,3,2,9],\n",
        "[9,7,10,10,3,7],\n",
        "[6,1,8,6,10,6],\n",
        "[9,2,9,8,6,4],\n",
        "[2,9,7,3,4,7],\n",
        "[1,2,9,9,9,4],\n",
        "[3,7,7,3,10,1],\n",
        "[7,3,9,9,7,5],\n",
        "[2,4,5,1,10,4],\n",
        "[7,9,5,2,6,3]]"
      ],
      "metadata": {
        "id": "NoXtsHa9zLQi"
      },
      "execution_count": null,
      "outputs": []
    },
    {
      "cell_type": "code",
      "source": [],
      "metadata": {
        "id": "nVpHhIBGlpPU"
      },
      "execution_count": null,
      "outputs": []
    },
    {
      "cell_type": "code",
      "source": [
        "# bin-packing problem\n",
        "weight_item =  [3, 5, 4, 2, 5, 4, 5, 1, 3]\n",
        "cap_bin = 20"
      ],
      "metadata": {
        "id": "saxcRKoLCROU"
      },
      "execution_count": null,
      "outputs": []
    },
    {
      "cell_type": "code",
      "source": [],
      "metadata": {
        "id": "24hrh1eXlsQb"
      },
      "execution_count": null,
      "outputs": []
    },
    {
      "cell_type": "code",
      "source": [
        "# the dynamical lot-sizing problem\n",
        "## demand per period\n",
        "demand = [36, 60, 85, 11, 39, 75]\n",
        "## setup cost\n",
        "setup = 80\n",
        "## unit production cost\n",
        "prod = 1\n",
        "## holding cost\n",
        "holding = 1.75"
      ],
      "metadata": {
        "id": "dr_etU0kSCwW"
      },
      "execution_count": null,
      "outputs": []
    },
    {
      "cell_type": "code",
      "source": [],
      "metadata": {
        "id": "K28ArGOUjIm1"
      },
      "execution_count": null,
      "outputs": []
    }
  ]
}