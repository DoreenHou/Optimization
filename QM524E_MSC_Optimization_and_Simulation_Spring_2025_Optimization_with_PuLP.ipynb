{
  "nbformat": 4,
  "nbformat_minor": 0,
  "metadata": {
    "colab": {
      "provenance": [],
      "include_colab_link": true
    },
    "kernelspec": {
      "name": "python3",
      "display_name": "Python 3"
    },
    "language_info": {
      "name": "python"
    }
  },
  "cells": [
    {
      "cell_type": "markdown",
      "metadata": {
        "id": "view-in-github",
        "colab_type": "text"
      },
      "source": [
        "<a href=\"https://colab.research.google.com/github/DoreenHou/Optimization/blob/main/QM524E_MSC_Optimization_and_Simulation_Spring_2025_Optimization_with_PuLP.ipynb\" target=\"_parent\"><img src=\"https://colab.research.google.com/assets/colab-badge.svg\" alt=\"Open In Colab\"/></a>"
      ]
    },
    {
      "cell_type": "code",
      "source": [
        "#install pulp\n",
        "%pip install pulp"
      ],
      "metadata": {
        "id": "ISSTKsNDtXHK",
        "colab": {
          "base_uri": "https://localhost:8080/"
        },
        "outputId": "6f74ed70-3b8d-4190-f137-8e7f7f6bf3f7"
      },
      "execution_count": 22,
      "outputs": [
        {
          "output_type": "stream",
          "name": "stdout",
          "text": [
            "Requirement already satisfied: pulp in /usr/local/lib/python3.11/dist-packages (3.0.2)\n"
          ]
        }
      ]
    },
    {
      "cell_type": "code",
      "execution_count": 23,
      "metadata": {
        "id": "vyxbOhkktL29"
      },
      "outputs": [],
      "source": [
        "# Import PuLP modeler functions\n",
        "from pulp import *"
      ]
    },
    {
      "cell_type": "code",
      "source": [
        "# create an empty model\n",
        "# name\n",
        "# set the type of the objective function: max or min\n",
        "model = LpProblem(\"Reddy_Mikks\", LpMaximize)"
      ],
      "metadata": {
        "id": "pPfTZYTvlBaT"
      },
      "execution_count": 24,
      "outputs": []
    },
    {
      "cell_type": "code",
      "source": [
        "# profits\n",
        "profit_x1 = 5\n",
        "profit_x2 = 4"
      ],
      "metadata": {
        "id": "V0ccs_mI-Goi"
      },
      "execution_count": 25,
      "outputs": []
    },
    {
      "cell_type": "code",
      "source": [
        "# availabilities\n",
        "avail_m1 = 24\n",
        "avail_m2 = 6"
      ],
      "metadata": {
        "id": "6nPitJVd-GZa"
      },
      "execution_count": 26,
      "outputs": []
    },
    {
      "cell_type": "code",
      "source": [
        "# declare the decision variables\n",
        "# arguments: name, the lower bound, the upper bound\n",
        "X1 = LpVariable('X1', 0, None)\n",
        "X2 = LpVariable('X2', 0, None)"
      ],
      "metadata": {
        "id": "dP490cB2-GRv"
      },
      "execution_count": 27,
      "outputs": []
    },
    {
      "cell_type": "code",
      "source": [
        "# set the objective function\n",
        "model += profit_x1*X1 + profit_x2*X2"
      ],
      "metadata": {
        "id": "zRrNezG0-GJv"
      },
      "execution_count": 28,
      "outputs": []
    },
    {
      "cell_type": "code",
      "source": [
        "# constraint 1\n",
        "model += 6*X1 + 4*X2 <= avail_m1"
      ],
      "metadata": {
        "id": "RxxwAsU9-GAo"
      },
      "execution_count": 29,
      "outputs": []
    },
    {
      "cell_type": "code",
      "source": [
        "# constraint 2\n",
        "model += X1 + 2*X2 <= avail_m2"
      ],
      "metadata": {
        "id": "zcvweqDyAMEu"
      },
      "execution_count": 30,
      "outputs": []
    },
    {
      "cell_type": "code",
      "source": [
        "# constraint 3\n",
        "model += X2 - X1 <= 1"
      ],
      "metadata": {
        "id": "WfMPXOmGAL_z"
      },
      "execution_count": 31,
      "outputs": []
    },
    {
      "cell_type": "code",
      "source": [
        "# constraint 4\n",
        "model += X2 <= 2"
      ],
      "metadata": {
        "id": "KR72djXWAL6E"
      },
      "execution_count": 32,
      "outputs": []
    },
    {
      "cell_type": "code",
      "source": [
        "# solve\n",
        "model.solve()"
      ],
      "metadata": {
        "colab": {
          "base_uri": "https://localhost:8080/"
        },
        "id": "ZI6sAILwALy5",
        "outputId": "0c04f60f-eb59-4609-ed0a-b68a0573ff08"
      },
      "execution_count": 33,
      "outputs": [
        {
          "output_type": "execute_result",
          "data": {
            "text/plain": [
              "1"
            ]
          },
          "metadata": {},
          "execution_count": 33
        }
      ]
    },
    {
      "cell_type": "code",
      "source": [
        "# the objective value\n",
        "pulp.value(model.objective)"
      ],
      "metadata": {
        "colab": {
          "base_uri": "https://localhost:8080/"
        },
        "id": "oGqopbXQALk8",
        "outputId": "a968ba42-62a8-4fbf-b98b-d774e333b94c"
      },
      "execution_count": 34,
      "outputs": [
        {
          "output_type": "execute_result",
          "data": {
            "text/plain": [
              "21.0"
            ]
          },
          "metadata": {},
          "execution_count": 34
        }
      ]
    },
    {
      "cell_type": "code",
      "source": [
        "# get x1\n",
        "X1.varValue"
      ],
      "metadata": {
        "colab": {
          "base_uri": "https://localhost:8080/"
        },
        "id": "jiJJcbyeBFbK",
        "outputId": "bbd8e401-829b-4f65-d93f-0dc3b23b5a08"
      },
      "execution_count": 35,
      "outputs": [
        {
          "output_type": "execute_result",
          "data": {
            "text/plain": [
              "3.0"
            ]
          },
          "metadata": {},
          "execution_count": 35
        }
      ]
    },
    {
      "cell_type": "code",
      "source": [
        "# get x2\n",
        "X2.varValue"
      ],
      "metadata": {
        "colab": {
          "base_uri": "https://localhost:8080/"
        },
        "id": "aUW_YvH5BFPX",
        "outputId": "7af0154b-c455-41eb-904e-0b12d833d4fd"
      },
      "execution_count": 36,
      "outputs": [
        {
          "output_type": "execute_result",
          "data": {
            "text/plain": [
              "1.5"
            ]
          },
          "metadata": {},
          "execution_count": 36
        }
      ]
    },
    {
      "cell_type": "code",
      "source": [
        "# Knapsack Problem\n",
        "value = [2, 8, 10, 5, 18, 12, 15, 1]\n",
        "weight =  [3, 5, 4, 2, 5, 4, 5, 1]\n",
        "cap = 15"
      ],
      "metadata": {
        "id": "Z_7CIpJywVAY"
      },
      "execution_count": 37,
      "outputs": []
    },
    {
      "cell_type": "code",
      "source": [
        "# create an empty model\n",
        "## name, the obj function type\n",
        "prob = LpProblem('Knapsack', LpMaximize)"
      ],
      "metadata": {
        "id": "d5gKmKYOlggD"
      },
      "execution_count": 38,
      "outputs": []
    },
    {
      "cell_type": "code",
      "source": [
        "# get the number of items\n",
        "nb_items = len(value)"
      ],
      "metadata": {
        "id": "O8yUCzRUIEW1"
      },
      "execution_count": 39,
      "outputs": []
    },
    {
      "cell_type": "code",
      "source": [
        "# declare the decision variables\n",
        "x = {}\n",
        "for i in range(nb_items):\n",
        "  x[i] = LpVariable(\"x_\" + str(i), cat = 'Binary')"
      ],
      "metadata": {
        "id": "KEbyYPCUIERH"
      },
      "execution_count": 40,
      "outputs": []
    },
    {
      "cell_type": "code",
      "source": [
        "# set the objective function\n",
        "prob += lpSum(value[i]*x[i] for i in range(nb_items))"
      ],
      "metadata": {
        "id": "bUeY-2oMIELi"
      },
      "execution_count": 41,
      "outputs": []
    },
    {
      "cell_type": "code",
      "source": [
        "# set the constraint\n",
        "prob += lpSum(weight[i]*x[i] for i in range(nb_items)) <= cap"
      ],
      "metadata": {
        "id": "Y4ADISuGIEGs"
      },
      "execution_count": 42,
      "outputs": []
    },
    {
      "cell_type": "code",
      "source": [
        "# solve\n",
        "prob.solve()"
      ],
      "metadata": {
        "colab": {
          "base_uri": "https://localhost:8080/"
        },
        "id": "CmHt_ZHlIEB_",
        "outputId": "a4105c21-5244-4b0c-eba4-729f1bedc60e"
      },
      "execution_count": 43,
      "outputs": [
        {
          "output_type": "execute_result",
          "data": {
            "text/plain": [
              "1"
            ]
          },
          "metadata": {},
          "execution_count": 43
        }
      ]
    },
    {
      "cell_type": "code",
      "source": [
        "# the objective value\n",
        "pulp.value(prob.objective)"
      ],
      "metadata": {
        "colab": {
          "base_uri": "https://localhost:8080/"
        },
        "id": "5GzJoAFVID9S",
        "outputId": "44a73817-4819-4d77-e67b-08dcba72a556"
      },
      "execution_count": 44,
      "outputs": [
        {
          "output_type": "execute_result",
          "data": {
            "text/plain": [
              "46.0"
            ]
          },
          "metadata": {},
          "execution_count": 44
        }
      ]
    },
    {
      "cell_type": "code",
      "source": [
        "for i in range(nb_items):\n",
        "  print(\"x_\", i , \"= \", x[i].varValue)"
      ],
      "metadata": {
        "colab": {
          "base_uri": "https://localhost:8080/"
        },
        "id": "2TnizHk7Kzl0",
        "outputId": "36a24916-2ca1-45d0-c79a-9498e1703870"
      },
      "execution_count": 45,
      "outputs": [
        {
          "output_type": "stream",
          "name": "stdout",
          "text": [
            "x_ 0 =  0.0\n",
            "x_ 1 =  0.0\n",
            "x_ 2 =  0.0\n",
            "x_ 3 =  0.0\n",
            "x_ 4 =  1.0\n",
            "x_ 5 =  1.0\n",
            "x_ 6 =  1.0\n",
            "x_ 7 =  1.0\n"
          ]
        }
      ]
    },
    {
      "cell_type": "code",
      "source": [
        "# assignment problem\n",
        "## c_ij = the operation time of performing task i by worker j\n",
        "c = [[5,3,9,3,2,9],\n",
        "[9,7,10,10,3,7],\n",
        "[6,1,8,6,10,6],\n",
        "[9,2,9,8,6,4],\n",
        "[2,9,7,3,4,7],\n",
        "[1,2,9,9,9,4],\n",
        "[3,7,7,3,10,1],\n",
        "[7,3,9,9,7,5],\n",
        "[2,4,5,1,10,4],\n",
        "[7,9,5,2,6,3]]"
      ],
      "metadata": {
        "id": "NoXtsHa9zLQi"
      },
      "execution_count": 8,
      "outputs": []
    },
    {
      "cell_type": "code",
      "source": [
        "# sets\n",
        "nb_tasks = len(c[0])\n",
        "nb_tasks"
      ],
      "metadata": {
        "id": "nVpHhIBGlpPU",
        "colab": {
          "base_uri": "https://localhost:8080/"
        },
        "outputId": "09909619-0b74-4957-ec4a-df6ecdd94194"
      },
      "execution_count": 9,
      "outputs": [
        {
          "output_type": "execute_result",
          "data": {
            "text/plain": [
              "6"
            ]
          },
          "metadata": {},
          "execution_count": 9
        }
      ]
    },
    {
      "cell_type": "code",
      "source": [
        "nb_workers = len(c)\n",
        "nb_workers"
      ],
      "metadata": {
        "colab": {
          "base_uri": "https://localhost:8080/"
        },
        "id": "NFd_GAXSPeJc",
        "outputId": "7ab9d762-100c-4d49-a094-91035ce92175"
      },
      "execution_count": 10,
      "outputs": [
        {
          "output_type": "execute_result",
          "data": {
            "text/plain": [
              "10"
            ]
          },
          "metadata": {},
          "execution_count": 10
        }
      ]
    },
    {
      "cell_type": "code",
      "source": [
        "# create an empty model\n",
        "prob2 = LpProblem(\"assignment\", LpMinimize)"
      ],
      "metadata": {
        "id": "GSIts_tdPd70"
      },
      "execution_count": 11,
      "outputs": []
    },
    {
      "cell_type": "code",
      "source": [
        "# decision variables\n",
        "x = {}\n",
        "for i in range(nb_tasks):\n",
        "  for j in range(nb_workers):\n",
        "    x[i,j] = LpVariable(\"x_\" + str(i) + \"_\" + str(j), cat = 'Binary')"
      ],
      "metadata": {
        "id": "BoaQm2L1Pdvf"
      },
      "execution_count": 12,
      "outputs": []
    },
    {
      "cell_type": "code",
      "source": [
        "# set the objective function\n",
        "prob2 += lpSum(c[j][i]*x[i,j] for i in range(nb_tasks) for j in range(nb_workers))"
      ],
      "metadata": {
        "id": "ZVnz7GNAPdme"
      },
      "execution_count": 13,
      "outputs": []
    },
    {
      "cell_type": "code",
      "source": [
        "# constraints 1\n",
        "for j in range(nb_workers):\n",
        "  prob2 += lpSum(x[i,j] for i in range(nb_tasks)) <= 1"
      ],
      "metadata": {
        "id": "a0Q7H0CUPdg5"
      },
      "execution_count": 14,
      "outputs": []
    },
    {
      "cell_type": "code",
      "source": [
        "# constraints 2\n",
        "for i in range(nb_tasks):\n",
        "  prob2 += lpSum(x[i,j] for j in range(nb_workers)) == 1"
      ],
      "metadata": {
        "id": "gM0TapX9RZ0M"
      },
      "execution_count": 15,
      "outputs": []
    },
    {
      "cell_type": "code",
      "source": [
        "# solve\n",
        "prob2.solve()"
      ],
      "metadata": {
        "colab": {
          "base_uri": "https://localhost:8080/"
        },
        "id": "KQyIl2JPRZpb",
        "outputId": "5c7abdde-629a-4ef2-a1a5-849f930c33be"
      },
      "execution_count": 16,
      "outputs": [
        {
          "output_type": "execute_result",
          "data": {
            "text/plain": [
              "1"
            ]
          },
          "metadata": {},
          "execution_count": 16
        }
      ]
    },
    {
      "cell_type": "code",
      "source": [
        "# get the objective value\n",
        "pulp.value(prob2.objective)\n",
        "# get the decision values\n",
        "print(\"\\n最佳任務分配：\")\n",
        "for i in range(nb_tasks):\n",
        "    for j in range(nb_workers):\n",
        "        if x[i, j].varValue == 1:\n",
        "            print(f\"任務 {i+1} 分配給 工作者 {j+1}，執行時間 = {c[j][i]}\")\n"
      ],
      "metadata": {
        "id": "ZtA1fJ1zSuHx",
        "colab": {
          "base_uri": "https://localhost:8080/"
        },
        "outputId": "f800856e-ff92-4f9d-eb06-91f82bc9872e"
      },
      "execution_count": 18,
      "outputs": [
        {
          "output_type": "stream",
          "name": "stdout",
          "text": [
            "\n",
            "最佳任務分配：\n",
            "任務 1 分配給 工作者 6，執行時間 = 1\n",
            "任務 2 分配給 工作者 3，執行時間 = 1\n",
            "任務 3 分配給 工作者 10，執行時間 = 5\n",
            "任務 4 分配給 工作者 9，執行時間 = 1\n",
            "任務 5 分配給 工作者 1，執行時間 = 2\n",
            "任務 6 分配給 工作者 7，執行時間 = 1\n"
          ]
        }
      ]
    },
    {
      "cell_type": "code",
      "source": [
        "# 1D bin-packing problem\n",
        "weight_item =  [3, 5, 4, 2, 5, 4, 5, 1, 3]\n",
        "cap_truck = 20"
      ],
      "metadata": {
        "id": "saxcRKoLCROU"
      },
      "execution_count": 19,
      "outputs": []
    },
    {
      "cell_type": "code",
      "source": [
        "def bin_packing(weight, capa):\n",
        "  # create an empty model\n",
        "  prob3 = LpProblem(\"bin_packing\", LpMinimize)\n",
        "\n",
        "  # sets\n",
        "  nb_items = len(weight)\n",
        "  nb_trucks = len(weight)\n",
        "\n",
        "  # declare the decision variables\n",
        "  x = {}\n",
        "  for i in range(nb_items):\n",
        "    for j in range(nb_trucks):\n",
        "      x[i,j] = LpVariable(\"x_\" + str(i) + \"_\" + str(j), cat = 'Binary')\n",
        "\n",
        "  y = {}\n",
        "  for j in range(nb_trucks):\n",
        "    y[j] = LpVariable(\"y_\" + str(j), cat = \"Binary\")\n",
        "\n",
        "  # set the objective function\n",
        "  prob3 += lpSum(y[j] for j in range(nb_trucks))\n",
        "\n",
        "  # constraints 1\n",
        "  for i in range(nb_items):\n",
        "    prob3 += lpSum(x[i,j] for j in range(nb_trucks)) == 1\n",
        "\n",
        "  # constraints 2\n",
        "  for j in range(nb_trucks):\n",
        "    prob3 += lpSum(weight[i]*x[i,j] for i in range(nb_items)) <= capa*y[j]\n",
        "\n",
        "  # solve\n",
        "  prob3.solve()\n",
        "\n",
        "  # get the objective value\n",
        "  obj_val = pulp.value(prob3.objective)\n",
        "\n",
        "  return obj_val"
      ],
      "metadata": {
        "id": "24hrh1eXlsQb"
      },
      "execution_count": 20,
      "outputs": []
    },
    {
      "cell_type": "code",
      "source": [
        "obj_val = bin_packing(weight_item, cap_truck)\n",
        "obj_val"
      ],
      "metadata": {
        "colab": {
          "base_uri": "https://localhost:8080/"
        },
        "id": "6UwEzENzYkTy",
        "outputId": "17472072-1157-49e2-fddc-8e92995a36bf"
      },
      "execution_count": 21,
      "outputs": [
        {
          "output_type": "execute_result",
          "data": {
            "text/plain": [
              "2.0"
            ]
          },
          "metadata": {},
          "execution_count": 21
        }
      ]
    },
    {
      "cell_type": "code",
      "source": [],
      "metadata": {
        "id": "yczhbS1MYkNa"
      },
      "execution_count": null,
      "outputs": []
    },
    {
      "cell_type": "code",
      "source": [],
      "metadata": {
        "id": "sfvx0Y1LYkGb"
      },
      "execution_count": null,
      "outputs": []
    },
    {
      "cell_type": "code",
      "source": [
        "# the dynamical lot-sizing problem\n",
        "## demand per period\n",
        "demand = [36, 60, 85, 11, 39, 75]\n",
        "## setup cost\n",
        "setup = 80\n",
        "## unit production cost\n",
        "prod = 1\n",
        "## holding cost\n",
        "holding = 1.75"
      ],
      "metadata": {
        "id": "dr_etU0kSCwW"
      },
      "execution_count": null,
      "outputs": []
    },
    {
      "cell_type": "code",
      "source": [],
      "metadata": {
        "id": "K28ArGOUjIm1"
      },
      "execution_count": null,
      "outputs": []
    }
  ]
}