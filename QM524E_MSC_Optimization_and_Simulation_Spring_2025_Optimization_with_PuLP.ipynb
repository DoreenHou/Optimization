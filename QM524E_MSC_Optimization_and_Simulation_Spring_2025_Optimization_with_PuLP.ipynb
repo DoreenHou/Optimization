{
  "nbformat": 4,
  "nbformat_minor": 0,
  "metadata": {
    "colab": {
      "provenance": [],
      "include_colab_link": true
    },
    "kernelspec": {
      "name": "python3",
      "display_name": "Python 3"
    },
    "language_info": {
      "name": "python"
    }
  },
  "cells": [
    {
      "cell_type": "markdown",
      "metadata": {
        "id": "view-in-github",
        "colab_type": "text"
      },
      "source": [
        "<a href=\"https://colab.research.google.com/github/DoreenHou/Optimization/blob/main/QM524E_MSC_Optimization_and_Simulation_Spring_2025_Optimization_with_PuLP.ipynb\" target=\"_parent\"><img src=\"https://colab.research.google.com/assets/colab-badge.svg\" alt=\"Open In Colab\"/></a>"
      ]
    },
    {
      "cell_type": "code",
      "source": [
        "#install pulp\n",
        "%pip install pulp"
      ],
      "metadata": {
        "id": "ISSTKsNDtXHK",
        "colab": {
          "base_uri": "https://localhost:8080/"
        },
        "outputId": "e8badf62-6a01-4df9-c55b-72d64bc5005b"
      },
      "execution_count": null,
      "outputs": [
        {
          "output_type": "stream",
          "name": "stdout",
          "text": [
            "Collecting pulp\n",
            "  Downloading PuLP-3.0.2-py3-none-any.whl.metadata (6.7 kB)\n",
            "Downloading PuLP-3.0.2-py3-none-any.whl (17.7 MB)\n",
            "\u001b[2K   \u001b[90m━━━━━━━━━━━━━━━━━━━━━━━━━━━━━━━━━━━━━━━━\u001b[0m \u001b[32m17.7/17.7 MB\u001b[0m \u001b[31m43.4 MB/s\u001b[0m eta \u001b[36m0:00:00\u001b[0m\n",
            "\u001b[?25hInstalling collected packages: pulp\n",
            "Successfully installed pulp-3.0.2\n"
          ]
        }
      ]
    },
    {
      "cell_type": "code",
      "execution_count": null,
      "metadata": {
        "id": "vyxbOhkktL29"
      },
      "outputs": [],
      "source": [
        "# Import PuLP modeler functions\n",
        "from pulp import *"
      ]
    },
    {
      "cell_type": "code",
      "source": [
        "# create an empty model\n",
        "# name\n",
        "# set the type of the objective function: max or min\n",
        "model = LpProblem(\"Reddy_Mikks\", LpMaximize)"
      ],
      "metadata": {
        "id": "pPfTZYTvlBaT"
      },
      "execution_count": null,
      "outputs": []
    },
    {
      "cell_type": "code",
      "source": [
        "# profits\n",
        "profit_x1 = 5\n",
        "profit_x2 = 4"
      ],
      "metadata": {
        "id": "V0ccs_mI-Goi"
      },
      "execution_count": null,
      "outputs": []
    },
    {
      "cell_type": "code",
      "source": [
        "# availabilities\n",
        "avail_m1 = 24\n",
        "avail_m2 = 6"
      ],
      "metadata": {
        "id": "6nPitJVd-GZa"
      },
      "execution_count": null,
      "outputs": []
    },
    {
      "cell_type": "code",
      "source": [
        "# declare the decision variables\n",
        "# arguments: name, the lower bound, the upper bound\n",
        "X1 = LpVariable('X1', 0, None)\n",
        "X2 = LpVariable('X2', 0, None)"
      ],
      "metadata": {
        "id": "dP490cB2-GRv"
      },
      "execution_count": null,
      "outputs": []
    },
    {
      "cell_type": "code",
      "source": [
        "# set the objective function\n",
        "model += profit_x1*X1 + profit_x2*X2"
      ],
      "metadata": {
        "id": "zRrNezG0-GJv"
      },
      "execution_count": null,
      "outputs": []
    },
    {
      "cell_type": "code",
      "source": [
        "# constraint 1\n",
        "model += 6*X1 + 4*X2 <= avail_m1"
      ],
      "metadata": {
        "id": "RxxwAsU9-GAo"
      },
      "execution_count": null,
      "outputs": []
    },
    {
      "cell_type": "code",
      "source": [
        "# constraint 2\n",
        "model += X1 + 2*X2 <= avail_m2"
      ],
      "metadata": {
        "id": "zcvweqDyAMEu"
      },
      "execution_count": null,
      "outputs": []
    },
    {
      "cell_type": "code",
      "source": [
        "# constraint 3\n",
        "model += X2 - X1 <= 1"
      ],
      "metadata": {
        "id": "WfMPXOmGAL_z"
      },
      "execution_count": null,
      "outputs": []
    },
    {
      "cell_type": "code",
      "source": [
        "# constraint 4\n",
        "model += X2 <= 2"
      ],
      "metadata": {
        "id": "KR72djXWAL6E"
      },
      "execution_count": null,
      "outputs": []
    },
    {
      "cell_type": "code",
      "source": [
        "# solve\n",
        "model.solve()"
      ],
      "metadata": {
        "colab": {
          "base_uri": "https://localhost:8080/"
        },
        "id": "ZI6sAILwALy5",
        "outputId": "b24a754f-3291-4be7-ee8e-e5ad15a85a50"
      },
      "execution_count": null,
      "outputs": [
        {
          "output_type": "execute_result",
          "data": {
            "text/plain": [
              "1"
            ]
          },
          "metadata": {},
          "execution_count": 12
        }
      ]
    },
    {
      "cell_type": "code",
      "source": [
        "# the objective value\n",
        "pulp.value(model.objective)"
      ],
      "metadata": {
        "colab": {
          "base_uri": "https://localhost:8080/"
        },
        "id": "oGqopbXQALk8",
        "outputId": "ea83d58e-3f0d-4f73-c89b-98b22023377b"
      },
      "execution_count": null,
      "outputs": [
        {
          "output_type": "execute_result",
          "data": {
            "text/plain": [
              "21.0"
            ]
          },
          "metadata": {},
          "execution_count": 13
        }
      ]
    },
    {
      "cell_type": "code",
      "source": [
        "# get x1\n",
        "X1.varValue"
      ],
      "metadata": {
        "colab": {
          "base_uri": "https://localhost:8080/"
        },
        "id": "jiJJcbyeBFbK",
        "outputId": "48152ec7-65f9-4214-9b58-5c29e6dd4384"
      },
      "execution_count": null,
      "outputs": [
        {
          "output_type": "execute_result",
          "data": {
            "text/plain": [
              "3.0"
            ]
          },
          "metadata": {},
          "execution_count": 14
        }
      ]
    },
    {
      "cell_type": "code",
      "source": [
        "# get x2\n",
        "X2.varValue"
      ],
      "metadata": {
        "colab": {
          "base_uri": "https://localhost:8080/"
        },
        "id": "aUW_YvH5BFPX",
        "outputId": "184c12e7-be1c-4e3f-e6b8-c806986d596e"
      },
      "execution_count": null,
      "outputs": [
        {
          "output_type": "execute_result",
          "data": {
            "text/plain": [
              "1.5"
            ]
          },
          "metadata": {},
          "execution_count": 15
        }
      ]
    },
    {
      "cell_type": "code",
      "source": [
        "# Knapsack Problem\n",
        "value = [2, 8, 10, 5, 18, 12, 15, 1]\n",
        "weight =  [3, 5, 4, 2, 5, 4, 5, 1]\n",
        "cap = 15"
      ],
      "metadata": {
        "id": "Z_7CIpJywVAY"
      },
      "execution_count": null,
      "outputs": []
    },
    {
      "cell_type": "code",
      "source": [
        "# create an empty model\n",
        "## name, the obj function type\n",
        "prob = LpProblem('Knapsack', LpMaximize)"
      ],
      "metadata": {
        "id": "d5gKmKYOlggD"
      },
      "execution_count": null,
      "outputs": []
    },
    {
      "cell_type": "code",
      "source": [
        "# get the number of items\n",
        "nb_items = len(value)"
      ],
      "metadata": {
        "id": "O8yUCzRUIEW1"
      },
      "execution_count": null,
      "outputs": []
    },
    {
      "cell_type": "code",
      "source": [
        "# declare the decision variables\n",
        "x = {}\n",
        "for i in range(nb_items):\n",
        "  x[i] = LpVariable(\"x_\" + str(i), cat = 'Binary')"
      ],
      "metadata": {
        "id": "KEbyYPCUIERH"
      },
      "execution_count": null,
      "outputs": []
    },
    {
      "cell_type": "code",
      "source": [
        "# set the objective function\n",
        "prob += lpSum(value[i]*x[i] for i in range(nb_items))"
      ],
      "metadata": {
        "id": "bUeY-2oMIELi"
      },
      "execution_count": null,
      "outputs": []
    },
    {
      "cell_type": "code",
      "source": [
        "# set the constraint\n",
        "prob += lpSum(weight[i]*x[i] for i in range(nb_items)) <= cap"
      ],
      "metadata": {
        "id": "Y4ADISuGIEGs"
      },
      "execution_count": null,
      "outputs": []
    },
    {
      "cell_type": "code",
      "source": [
        "# solve\n",
        "prob.solve()"
      ],
      "metadata": {
        "colab": {
          "base_uri": "https://localhost:8080/"
        },
        "id": "CmHt_ZHlIEB_",
        "outputId": "4298149e-6d2e-4510-acda-cd25ac87461d"
      },
      "execution_count": null,
      "outputs": [
        {
          "output_type": "execute_result",
          "data": {
            "text/plain": [
              "1"
            ]
          },
          "metadata": {},
          "execution_count": 23
        }
      ]
    },
    {
      "cell_type": "code",
      "source": [
        "# the objective value\n",
        "pulp.value(prob.objective)"
      ],
      "metadata": {
        "colab": {
          "base_uri": "https://localhost:8080/"
        },
        "id": "5GzJoAFVID9S",
        "outputId": "d02c7be8-a7f5-48a8-fb7b-d26c2045b3fb"
      },
      "execution_count": null,
      "outputs": [
        {
          "output_type": "execute_result",
          "data": {
            "text/plain": [
              "46.0"
            ]
          },
          "metadata": {},
          "execution_count": 24
        }
      ]
    },
    {
      "cell_type": "code",
      "source": [
        "for i in range(nb_items):\n",
        "  print(\"x_\", i , \"= \", x[i].varValue)"
      ],
      "metadata": {
        "colab": {
          "base_uri": "https://localhost:8080/"
        },
        "id": "2TnizHk7Kzl0",
        "outputId": "01d2338d-83ee-42e2-e622-57e32bb7cc1f"
      },
      "execution_count": null,
      "outputs": [
        {
          "output_type": "stream",
          "name": "stdout",
          "text": [
            "x_ 0 =  0.0\n",
            "x_ 1 =  0.0\n",
            "x_ 2 =  0.0\n",
            "x_ 3 =  0.0\n",
            "x_ 4 =  1.0\n",
            "x_ 5 =  1.0\n",
            "x_ 6 =  1.0\n",
            "x_ 7 =  1.0\n"
          ]
        }
      ]
    },
    {
      "cell_type": "code",
      "source": [
        "# assignment problem\n",
        "## c_ij = the operation time of performing task i by worker j\n",
        "c = [[5,3,9,3,2,9],\n",
        "[9,7,10,10,3,7],\n",
        "[6,1,8,6,10,6],\n",
        "[9,2,9,8,6,4],\n",
        "[2,9,7,3,4,7],\n",
        "[1,2,9,9,9,4],\n",
        "[3,7,7,3,10,1],\n",
        "[7,3,9,9,7,5],\n",
        "[2,4,5,1,10,4],\n",
        "[7,9,5,2,6,3]]"
      ],
      "metadata": {
        "id": "NoXtsHa9zLQi"
      },
      "execution_count": null,
      "outputs": []
    },
    {
      "cell_type": "code",
      "source": [
        "# sets\n",
        "nb_tasks = len(c[0])\n",
        "nb_tasks"
      ],
      "metadata": {
        "id": "nVpHhIBGlpPU",
        "colab": {
          "base_uri": "https://localhost:8080/"
        },
        "outputId": "49188123-75e1-4793-c32d-218c5e6b1634"
      },
      "execution_count": null,
      "outputs": [
        {
          "output_type": "execute_result",
          "data": {
            "text/plain": [
              "6"
            ]
          },
          "metadata": {},
          "execution_count": 30
        }
      ]
    },
    {
      "cell_type": "code",
      "source": [
        "nb_workers = len(c)\n",
        "nb_workers"
      ],
      "metadata": {
        "colab": {
          "base_uri": "https://localhost:8080/"
        },
        "id": "NFd_GAXSPeJc",
        "outputId": "ed09a31f-ad29-4684-fb31-3d8b9c5b62f2"
      },
      "execution_count": null,
      "outputs": [
        {
          "output_type": "execute_result",
          "data": {
            "text/plain": [
              "10"
            ]
          },
          "metadata": {},
          "execution_count": 31
        }
      ]
    },
    {
      "cell_type": "code",
      "source": [
        "# create an empty model\n",
        "prob2 = LpProblem(\"assignment\", LpMinimize)"
      ],
      "metadata": {
        "id": "GSIts_tdPd70"
      },
      "execution_count": null,
      "outputs": []
    },
    {
      "cell_type": "code",
      "source": [
        "# decision variables\n",
        "x = {}\n",
        "for i in range(nb_tasks):\n",
        "  for j in range(nb_workers):\n",
        "    x[i,j] = LpVariable(\"x_\" + str(i) + \"_\" + str(j), cat = 'Binary')"
      ],
      "metadata": {
        "id": "BoaQm2L1Pdvf"
      },
      "execution_count": null,
      "outputs": []
    },
    {
      "cell_type": "code",
      "source": [
        "# set the objective function\n",
        "prob2 += lpSum(c[j][i]*x[i,j] for i in range(nb_tasks) for j in range(nb_workers))"
      ],
      "metadata": {
        "id": "ZVnz7GNAPdme"
      },
      "execution_count": null,
      "outputs": []
    },
    {
      "cell_type": "code",
      "source": [
        "# constraints 1\n",
        "for j in range(nb_workers):\n",
        "  prob2 += lpSum(x[i,j] for i in range(nb_tasks)) <= 1"
      ],
      "metadata": {
        "id": "a0Q7H0CUPdg5"
      },
      "execution_count": null,
      "outputs": []
    },
    {
      "cell_type": "code",
      "source": [
        "# constraints 2\n",
        "for i in range(nb_tasks):\n",
        "  prob2 += lpSum(x[i,j] for j in range(nb_workers)) == 1"
      ],
      "metadata": {
        "id": "gM0TapX9RZ0M"
      },
      "execution_count": null,
      "outputs": []
    },
    {
      "cell_type": "code",
      "source": [
        "# solve\n",
        "prob2.solve()"
      ],
      "metadata": {
        "colab": {
          "base_uri": "https://localhost:8080/"
        },
        "id": "KQyIl2JPRZpb",
        "outputId": "f4cbf619-db7c-4c51-885f-068875a28d81"
      },
      "execution_count": null,
      "outputs": [
        {
          "output_type": "execute_result",
          "data": {
            "text/plain": [
              "1"
            ]
          },
          "metadata": {},
          "execution_count": 38
        }
      ]
    },
    {
      "cell_type": "code",
      "source": [
        "# get the objective value\n",
        "# get the decision values"
      ],
      "metadata": {
        "id": "ZtA1fJ1zSuHx"
      },
      "execution_count": null,
      "outputs": []
    },
    {
      "cell_type": "code",
      "source": [
        "# 1D bin-packing problem\n",
        "weight_item =  [3, 5, 4, 2, 5, 4, 5, 1, 3]\n",
        "cap_truck = 20"
      ],
      "metadata": {
        "id": "saxcRKoLCROU"
      },
      "execution_count": null,
      "outputs": []
    },
    {
      "cell_type": "code",
      "source": [
        "def bin_packing(weight, capa):\n",
        "  # create an empty model\n",
        "  prob3 = LpProblem(\"bin_packing\", LpMinimize)\n",
        "\n",
        "  # sets\n",
        "  nb_items = len(weight)\n",
        "  nb_trucks = len(weight)\n",
        "\n",
        "  # declare the decision variables\n",
        "  x = {}\n",
        "  for i in range(nb_items):\n",
        "    for j in range(nb_trucks):\n",
        "      x[i,j] = LpVariable(\"x_\" + str(i) + \"_\" + str(j), cat = 'Binary')\n",
        "\n",
        "  y = {}\n",
        "  for j in range(nb_trucks):\n",
        "    y[j] = LpVariable(\"y_\" + str(j), cat = \"Binary\")\n",
        "\n",
        "  # set the objective function\n",
        "  prob3 += lpSum(y[j] for j in range(nb_trucks))\n",
        "\n",
        "  # constraints 1\n",
        "  for i in range(nb_items):\n",
        "    prob3 += lpSum(x[i,j] for j in range(nb_trucks)) == 1\n",
        "\n",
        "  # constraints 2\n",
        "  for j in range(nb_trucks):\n",
        "    prob3 += lpSum(weight[i]*x[i,j] for i in range(nb_items)) <= capa*y[j]\n",
        "\n",
        "  # solve\n",
        "  prob3.solve()\n",
        "\n",
        "  # get the objective value\n",
        "  obj_val = pulp.value(prob3.objective)\n",
        "\n",
        "  return obj_val"
      ],
      "metadata": {
        "id": "24hrh1eXlsQb"
      },
      "execution_count": null,
      "outputs": []
    },
    {
      "cell_type": "code",
      "source": [
        "obj_val = bin_packing(weight_item, cap_truck)\n",
        "obj_val"
      ],
      "metadata": {
        "colab": {
          "base_uri": "https://localhost:8080/"
        },
        "id": "6UwEzENzYkTy",
        "outputId": "a4d5eb06-6715-4684-d28a-3cff7598c753"
      },
      "execution_count": null,
      "outputs": [
        {
          "output_type": "execute_result",
          "data": {
            "text/plain": [
              "2.0"
            ]
          },
          "metadata": {},
          "execution_count": 42
        }
      ]
    },
    {
      "cell_type": "code",
      "source": [],
      "metadata": {
        "id": "yczhbS1MYkNa"
      },
      "execution_count": null,
      "outputs": []
    },
    {
      "cell_type": "code",
      "source": [],
      "metadata": {
        "id": "sfvx0Y1LYkGb"
      },
      "execution_count": null,
      "outputs": []
    },
    {
      "cell_type": "code",
      "source": [
        "# the dynamical lot-sizing problem\n",
        "## demand per period\n",
        "demand = [36, 60, 85, 11, 39, 75]\n",
        "## setup cost\n",
        "setup = 80\n",
        "## unit production cost\n",
        "prod = 1\n",
        "## holding cost\n",
        "holding = 1.75"
      ],
      "metadata": {
        "id": "dr_etU0kSCwW"
      },
      "execution_count": null,
      "outputs": []
    },
    {
      "cell_type": "code",
      "source": [],
      "metadata": {
        "id": "K28ArGOUjIm1"
      },
      "execution_count": null,
      "outputs": []
    }
  ]
}