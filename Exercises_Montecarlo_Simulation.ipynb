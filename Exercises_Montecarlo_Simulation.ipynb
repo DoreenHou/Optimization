{
  "cells": [
    {
      "cell_type": "markdown",
      "metadata": {
        "id": "view-in-github",
        "colab_type": "text"
      },
      "source": [
        "<a href=\"https://colab.research.google.com/github/DoreenHou/Optimization/blob/main/Exercises_Montecarlo_Simulation.ipynb\" target=\"_parent\"><img src=\"https://colab.research.google.com/assets/colab-badge.svg\" alt=\"Open In Colab\"/></a>"
      ]
    },
    {
      "cell_type": "markdown",
      "metadata": {
        "id": "iVA9kCbaALAF"
      },
      "source": [
        "What is the probability of getting 3 or more, 6 or more, and 9 or more “heads”\n",
        "if a coin is flipped 10 times? Run 1000 replicas to verify the value."
      ]
    },
    {
      "cell_type": "code",
      "execution_count": null,
      "metadata": {
        "colab": {
          "base_uri": "https://localhost:8080/"
        },
        "id": "wJxAU6TFALAG",
        "outputId": "46e14f08-1952-4be3-e95e-594e8f5ec3f1"
      },
      "outputs": [
        {
          "output_type": "stream",
          "name": "stdout",
          "text": [
            "The probability of getting 3 or more heads with 10 flips and 1000 replicas is 0.94\n",
            "The probability of getting 6 or more heads with 10 flips and 1000 replicas is 0.345\n",
            "The probability of getting 9 or more heads with 10 flips and 1000 replicas is 0.005\n"
          ]
        }
      ],
      "source": [
        "import random\n",
        "\n",
        "\n",
        "replicas=1000\n",
        "flips=10\n",
        "heads=0\n",
        "\n",
        "count3=0\n",
        "count6=0\n",
        "count9=0\n",
        "\n",
        "rndnumber=0\n",
        "\n",
        "for i in range(replicas):\n",
        "    for j in range(flips):\n",
        "        rndnumber=random.random()\n",
        "        if rndnumber<0.5:\n",
        "            heads=heads+1\n",
        "\n",
        "    if heads >=3:\n",
        "        count3=count3+1\n",
        "\n",
        "    if heads >=6:\n",
        "        count6=count6+1\n",
        "\n",
        "    if heads >=9:\n",
        "        count9=count9+1\n",
        "\n",
        "    heads=0\n",
        "\n",
        "print('The probability of getting 3 or more heads with 10 flips and 1000 replicas is', count3/replicas)\n",
        "print('The probability of getting 6 or more heads with 10 flips and 1000 replicas is', count6/replicas)\n",
        "print('The probability of getting 9 or more heads with 10 flips and 1000 replicas is', count9/replicas)\n",
        "\n"
      ]
    },
    {
      "cell_type": "markdown",
      "metadata": {
        "id": "DmWh-25gALAG"
      },
      "source": [
        "There is a quality station where manufactured parts are analyzed\n",
        "according to the defects they present. The number of defects is distributed evenly taking into account that a piece can have a minimum of 0 and a maximum of 3 defects. The defect repair time per part corresponds to an exponential distribution with mean=3.3 minutes. Determine the total processing time for 200 pieces. Provide the average total processing time for 150 replicas.\n"
      ]
    },
    {
      "cell_type": "code",
      "execution_count": null,
      "metadata": {
        "colab": {
          "base_uri": "https://localhost:8080/"
        },
        "id": "pjX11Ku7ALAH",
        "outputId": "70108aba-a83a-4f59-8a7e-fa5c1e05aaf8"
      },
      "outputs": [
        {
          "output_type": "stream",
          "name": "stdout",
          "text": [
            "the average value for repairing the 200 pieces according to 150 replicas is  984.9586292096405\n"
          ]
        }
      ],
      "source": [
        "import random\n",
        "import numpy as np\n",
        "\n",
        "\n",
        "replicas=150\n",
        "pieces=200\n",
        "defects=0\n",
        "trepair=0\n",
        "tunit=0\n",
        "tgroup=0\n",
        "treplica=0\n",
        "meant=3.3\n",
        "\n",
        "\n",
        "for i in range(replicas):\n",
        "    for j in range(pieces):\n",
        "        defects=random.randint(0,3)\n",
        "\n",
        "        if defects>0:\n",
        "            for k in range(defects):\n",
        "                trepair=np.random.exponential(3.3)\n",
        "                tunit=tunit+trepair\n",
        "        tgroup=tgroup+tunit\n",
        "        tunit=0\n",
        "    treplica=treplica+tgroup\n",
        "    tgroup=0\n",
        "\n",
        "print('the average value for repairing the 200 pieces according to 150 replicas is ',treplica/replicas )\n",
        "\n",
        "\n",
        "\n",
        "\n",
        "\n",
        "\n"
      ]
    },
    {
      "cell_type": "markdown",
      "metadata": {
        "id": "fsW_Wok9ALAH"
      },
      "source": [
        "Two metal bars of different lengths are joined using a welding process,\n",
        "which allows longer bars to be formed. The length of the first type of bar follows a uniform distribution between 45 and 55 cm. The length of bar type 2 corresponds to a Normal distribution with mean of 35 cm and standard deviation of 2 cm. The specifications of the final product correspond to 80 ± 10 cm. Indicate the percentage of bars out of specification, with 1000 assemblies, and performing 500 replicas."
      ]
    },
    {
      "cell_type": "code",
      "execution_count": null,
      "metadata": {
        "colab": {
          "base_uri": "https://localhost:8080/"
        },
        "id": "UVcV6npkALAH",
        "outputId": "70502772-649a-4166-ce97-2df265a4e16a"
      },
      "outputs": [
        {
          "output_type": "stream",
          "name": "stdout",
          "text": [
            "The probability of assemblies out of specifitcations according to 150 replicas 7.97%\n"
          ]
        }
      ],
      "source": [
        "import random\n",
        "import numpy as np\n",
        "\n",
        "\n",
        "replicas=500\n",
        "bar1=0\n",
        "bar2=0\n",
        "finalbar=0\n",
        "assemblies=1000\n",
        "outspec=0\n",
        "pgroup=0\n",
        "\n",
        "\n",
        "for i in range(replicas):\n",
        "    for j in range(assemblies):\n",
        "        bar1=random.uniform(45,55)\n",
        "        bar2=np.random.normal(35,2)\n",
        "        finalbar=bar1+bar2\n",
        "        if finalbar<70 or finalbar>90:\n",
        "            outspec+=1\n",
        "\n",
        "    pgroup+=(outspec/assemblies)\n",
        "    outspec=0\n",
        "\n",
        "print('The probability of assemblies out of specifitcations according to 150 replicas',\"{:.2%}\".format(pgroup/replicas))"
      ]
    }
  ],
  "metadata": {
    "kernelspec": {
      "display_name": "Python 3",
      "language": "python",
      "name": "python3"
    },
    "language_info": {
      "codemirror_mode": {
        "name": "ipython",
        "version": 3
      },
      "file_extension": ".py",
      "mimetype": "text/x-python",
      "name": "python",
      "nbconvert_exporter": "python",
      "pygments_lexer": "ipython3",
      "version": "3.11.9"
    },
    "colab": {
      "provenance": [],
      "include_colab_link": true
    }
  },
  "nbformat": 4,
  "nbformat_minor": 0
}